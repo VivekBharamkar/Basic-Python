{
 "cells": [
  {
   "cell_type": "code",
   "execution_count": 1,
   "id": "0009c6ba",
   "metadata": {},
   "outputs": [],
   "source": [
    "#File Handling"
   ]
  },
  {
   "cell_type": "code",
   "execution_count": 2,
   "id": "6ca84e2b",
   "metadata": {},
   "outputs": [
    {
     "name": "stdout",
     "output_type": "stream",
     "text": [
      " Volume in drive C has no label.\n",
      " Volume Serial Number is BE38-9A92\n",
      "\n",
      " Directory of C:\\Users\\vivek\\Desktop\\ineuron\n",
      "\n",
      "08-12-2022  08:11    <DIR>          .\n",
      "08-12-2022  08:11    <DIR>          ..\n",
      "08-12-2022  08:11    <DIR>          .ipynb_checkpoints\n",
      "04-12-2022  06:49             6,826 errors.ipynb\n",
      "04-12-2022  07:33            31,132 exception handling 01.ipynb\n",
      "08-12-2022  08:11            10,915 file handling.ipynb\n",
      "04-12-2022  10:21                68 Github user name and pass.txt\n",
      "04-12-2022  12:55            10,639 introduction_practice.ipynb\n",
      "06-12-2022  12:00            23,433 iterator and generator.ipynb\n",
      "08-12-2022  08:09                72 Practice - File handling.ipynb\n",
      "04-12-2022  10:19            31,665 Practice -error and exception handling.ipynb\n",
      "               8 File(s)        114,750 bytes\n",
      "               3 Dir(s)  114,238,283,776 bytes free\n"
     ]
    }
   ],
   "source": [
    "ls"
   ]
  },
  {
   "cell_type": "code",
   "execution_count": 5,
   "id": "4c42a97f",
   "metadata": {},
   "outputs": [
    {
     "name": "stdout",
     "output_type": "stream",
     "text": [
      " Volume in drive C has no label.\n",
      " Volume Serial Number is BE38-9A92\n",
      "\n",
      " Directory of C:\\Users\\vivek\\Desktop\\ineuron\n",
      "\n",
      "08-12-2022  08:11    <DIR>          .\n",
      "08-12-2022  08:11    <DIR>          ..\n",
      "08-12-2022  08:11    <DIR>          .ipynb_checkpoints\n",
      "04-12-2022  06:49             6,826 errors.ipynb\n",
      "04-12-2022  07:33            31,132 exception handling 01.ipynb\n",
      "08-12-2022  08:11            10,915 file handling.ipynb\n",
      "04-12-2022  10:21                68 Github user name and pass.txt\n",
      "04-12-2022  12:55            10,639 introduction_practice.ipynb\n",
      "06-12-2022  12:00            23,433 iterator and generator.ipynb\n",
      "08-12-2022  08:11             2,040 Practice - File handling.ipynb\n",
      "04-12-2022  10:19            31,665 Practice -error and exception handling.ipynb\n",
      "               8 File(s)        116,718 bytes\n",
      "               3 Dir(s)  114,238,148,608 bytes free\n"
     ]
    }
   ],
   "source": [
    "%ls"
   ]
  },
  {
   "cell_type": "code",
   "execution_count": 6,
   "id": "5bf1e882",
   "metadata": {},
   "outputs": [
    {
     "data": {
      "text/plain": [
       "'C:\\\\Users\\\\vivek\\\\Desktop\\\\ineuron'"
      ]
     },
     "execution_count": 6,
     "metadata": {},
     "output_type": "execute_result"
    }
   ],
   "source": [
    "pwd()"
   ]
  },
  {
   "cell_type": "code",
   "execution_count": 9,
   "id": "6356561b",
   "metadata": {},
   "outputs": [],
   "source": [
    "f = open(\"vivek.txt\")"
   ]
  },
  {
   "cell_type": "code",
   "execution_count": 10,
   "id": "28922582",
   "metadata": {},
   "outputs": [],
   "source": [
    "f.close()"
   ]
  },
  {
   "cell_type": "code",
   "execution_count": 11,
   "id": "ed85c495",
   "metadata": {},
   "outputs": [],
   "source": [
    "f = open(\"vivek.txt\")"
   ]
  },
  {
   "cell_type": "code",
   "execution_count": 12,
   "id": "3c1dbaa5",
   "metadata": {},
   "outputs": [
    {
     "data": {
      "text/plain": [
       "'vivek\\nshivraj\\nArati'"
      ]
     },
     "execution_count": 12,
     "metadata": {},
     "output_type": "execute_result"
    }
   ],
   "source": [
    "f.read()"
   ]
  },
  {
   "cell_type": "code",
   "execution_count": 13,
   "id": "3ca20abe",
   "metadata": {},
   "outputs": [
    {
     "data": {
      "text/plain": [
       "''"
      ]
     },
     "execution_count": 13,
     "metadata": {},
     "output_type": "execute_result"
    }
   ],
   "source": [
    "f.read()"
   ]
  },
  {
   "cell_type": "code",
   "execution_count": 14,
   "id": "6f5113be",
   "metadata": {},
   "outputs": [
    {
     "data": {
      "text/plain": [
       "''"
      ]
     },
     "execution_count": 14,
     "metadata": {},
     "output_type": "execute_result"
    }
   ],
   "source": [
    "f.read(5)"
   ]
  },
  {
   "cell_type": "code",
   "execution_count": 16,
   "id": "d4ed8c83",
   "metadata": {},
   "outputs": [
    {
     "data": {
      "text/plain": [
       "0"
      ]
     },
     "execution_count": 16,
     "metadata": {},
     "output_type": "execute_result"
    }
   ],
   "source": [
    "f.seek(0)"
   ]
  },
  {
   "cell_type": "code",
   "execution_count": 17,
   "id": "e40b2ec8",
   "metadata": {},
   "outputs": [
    {
     "data": {
      "text/plain": [
       "'vivek'"
      ]
     },
     "execution_count": 17,
     "metadata": {},
     "output_type": "execute_result"
    }
   ],
   "source": [
    "f.read(5)"
   ]
  },
  {
   "cell_type": "code",
   "execution_count": 18,
   "id": "e2785c47",
   "metadata": {},
   "outputs": [
    {
     "data": {
      "text/plain": [
       "'\\nshivraj\\nArati'"
      ]
     },
     "execution_count": 18,
     "metadata": {},
     "output_type": "execute_result"
    }
   ],
   "source": [
    "f.read()"
   ]
  },
  {
   "cell_type": "code",
   "execution_count": 19,
   "id": "7ca07fc1",
   "metadata": {},
   "outputs": [
    {
     "data": {
      "text/plain": [
       "21"
      ]
     },
     "execution_count": 19,
     "metadata": {},
     "output_type": "execute_result"
    }
   ],
   "source": [
    "f.tell()"
   ]
  },
  {
   "cell_type": "code",
   "execution_count": 20,
   "id": "224f09ce",
   "metadata": {},
   "outputs": [
    {
     "data": {
      "text/plain": [
       "''"
      ]
     },
     "execution_count": 20,
     "metadata": {},
     "output_type": "execute_result"
    }
   ],
   "source": [
    "f.read(5)"
   ]
  },
  {
   "cell_type": "code",
   "execution_count": 21,
   "id": "f1e7a12f",
   "metadata": {},
   "outputs": [
    {
     "ename": "TypeError",
     "evalue": "seek expected at least 1 argument, got 0",
     "output_type": "error",
     "traceback": [
      "\u001b[1;31m---------------------------------------------------------------------------\u001b[0m",
      "\u001b[1;31mTypeError\u001b[0m                                 Traceback (most recent call last)",
      "Input \u001b[1;32mIn [21]\u001b[0m, in \u001b[0;36m<cell line: 1>\u001b[1;34m()\u001b[0m\n\u001b[1;32m----> 1\u001b[0m \u001b[43mf\u001b[49m\u001b[38;5;241;43m.\u001b[39;49m\u001b[43mseek\u001b[49m\u001b[43m(\u001b[49m\u001b[43m)\u001b[49m\n",
      "\u001b[1;31mTypeError\u001b[0m: seek expected at least 1 argument, got 0"
     ]
    }
   ],
   "source": [
    "f.seek()"
   ]
  },
  {
   "cell_type": "code",
   "execution_count": 3,
   "id": "38918ad5",
   "metadata": {},
   "outputs": [],
   "source": [
    "f = open('vivek.txt')"
   ]
  },
  {
   "cell_type": "code",
   "execution_count": 4,
   "id": "93a975ff",
   "metadata": {},
   "outputs": [
    {
     "data": {
      "text/plain": [
       "0"
      ]
     },
     "execution_count": 4,
     "metadata": {},
     "output_type": "execute_result"
    }
   ],
   "source": [
    "f.tell()"
   ]
  },
  {
   "cell_type": "code",
   "execution_count": 6,
   "id": "23de4c0e",
   "metadata": {},
   "outputs": [
    {
     "data": {
      "text/plain": [
       "['vek\\n']"
      ]
     },
     "execution_count": 6,
     "metadata": {},
     "output_type": "execute_result"
    }
   ],
   "source": [
    "f.readlines(2)"
   ]
  },
  {
   "cell_type": "code",
   "execution_count": 7,
   "id": "d19b62a4",
   "metadata": {},
   "outputs": [
    {
     "data": {
      "text/plain": [
       "0"
      ]
     },
     "execution_count": 7,
     "metadata": {},
     "output_type": "execute_result"
    }
   ],
   "source": [
    "f.seek(0)"
   ]
  },
  {
   "cell_type": "code",
   "execution_count": 8,
   "id": "abc55dc7",
   "metadata": {},
   "outputs": [
    {
     "data": {
      "text/plain": [
       "['vivek\\n']"
      ]
     },
     "execution_count": 8,
     "metadata": {},
     "output_type": "execute_result"
    }
   ],
   "source": [
    "f.readlines(2)"
   ]
  },
  {
   "cell_type": "code",
   "execution_count": 9,
   "id": "cc35d8ba",
   "metadata": {},
   "outputs": [
    {
     "data": {
      "text/plain": [
       "['shivraj\\n']"
      ]
     },
     "execution_count": 9,
     "metadata": {},
     "output_type": "execute_result"
    }
   ],
   "source": [
    "f.readlines(4)"
   ]
  },
  {
   "cell_type": "code",
   "execution_count": 10,
   "id": "dca6c117",
   "metadata": {},
   "outputs": [
    {
     "data": {
      "text/plain": [
       "['Arati']"
      ]
     },
     "execution_count": 10,
     "metadata": {},
     "output_type": "execute_result"
    }
   ],
   "source": [
    "f.readlines(0)"
   ]
  },
  {
   "cell_type": "code",
   "execution_count": 11,
   "id": "caba2695",
   "metadata": {},
   "outputs": [
    {
     "data": {
      "text/plain": [
       "0"
      ]
     },
     "execution_count": 11,
     "metadata": {},
     "output_type": "execute_result"
    }
   ],
   "source": [
    "f.seek(0)"
   ]
  },
  {
   "cell_type": "code",
   "execution_count": 13,
   "id": "420e819e",
   "metadata": {},
   "outputs": [
    {
     "data": {
      "text/plain": [
       "0"
      ]
     },
     "execution_count": 13,
     "metadata": {},
     "output_type": "execute_result"
    }
   ],
   "source": [
    "f.tell()"
   ]
  },
  {
   "cell_type": "code",
   "execution_count": 14,
   "id": "00dcab7b",
   "metadata": {},
   "outputs": [
    {
     "ename": "TypeError",
     "evalue": "seek expected at least 1 argument, got 0",
     "output_type": "error",
     "traceback": [
      "\u001b[1;31m---------------------------------------------------------------------------\u001b[0m",
      "\u001b[1;31mTypeError\u001b[0m                                 Traceback (most recent call last)",
      "Input \u001b[1;32mIn [14]\u001b[0m, in \u001b[0;36m<cell line: 1>\u001b[1;34m()\u001b[0m\n\u001b[1;32m----> 1\u001b[0m \u001b[43mf\u001b[49m\u001b[38;5;241;43m.\u001b[39;49m\u001b[43mseek\u001b[49m\u001b[43m(\u001b[49m\u001b[43m)\u001b[49m\n",
      "\u001b[1;31mTypeError\u001b[0m: seek expected at least 1 argument, got 0"
     ]
    }
   ],
   "source": [
    "f.seek()"
   ]
  },
  {
   "cell_type": "code",
   "execution_count": 16,
   "id": "6e36a3ab",
   "metadata": {},
   "outputs": [
    {
     "data": {
      "text/plain": [
       "''"
      ]
     },
     "execution_count": 16,
     "metadata": {},
     "output_type": "execute_result"
    }
   ],
   "source": [
    "f.readline(0)"
   ]
  },
  {
   "cell_type": "code",
   "execution_count": 17,
   "id": "bc287691",
   "metadata": {},
   "outputs": [
    {
     "data": {
      "text/plain": [
       "0"
      ]
     },
     "execution_count": 17,
     "metadata": {},
     "output_type": "execute_result"
    }
   ],
   "source": [
    "f.seek(0)"
   ]
  },
  {
   "cell_type": "code",
   "execution_count": 18,
   "id": "e1aa1fb0",
   "metadata": {},
   "outputs": [
    {
     "data": {
      "text/plain": [
       "''"
      ]
     },
     "execution_count": 18,
     "metadata": {},
     "output_type": "execute_result"
    }
   ],
   "source": [
    "f.readline(0)"
   ]
  },
  {
   "cell_type": "code",
   "execution_count": 20,
   "id": "1ff48f08",
   "metadata": {},
   "outputs": [
    {
     "data": {
      "text/plain": [
       "['ivek\\n']"
      ]
     },
     "execution_count": 20,
     "metadata": {},
     "output_type": "execute_result"
    }
   ],
   "source": [
    "f.readlines(1)"
   ]
  },
  {
   "cell_type": "code",
   "execution_count": 21,
   "id": "99b4d7fb",
   "metadata": {},
   "outputs": [
    {
     "data": {
      "text/plain": [
       "['shivraj\\n']"
      ]
     },
     "execution_count": 21,
     "metadata": {},
     "output_type": "execute_result"
    }
   ],
   "source": [
    "f.readlines(2)"
   ]
  },
  {
   "cell_type": "code",
   "execution_count": 22,
   "id": "d492b5e2",
   "metadata": {},
   "outputs": [
    {
     "data": {
      "text/plain": [
       "['Arati']"
      ]
     },
     "execution_count": 22,
     "metadata": {},
     "output_type": "execute_result"
    }
   ],
   "source": [
    "f.readlines(3)"
   ]
  },
  {
   "cell_type": "code",
   "execution_count": 24,
   "id": "5c5e5392",
   "metadata": {},
   "outputs": [
    {
     "data": {
      "text/plain": [
       "0"
      ]
     },
     "execution_count": 24,
     "metadata": {},
     "output_type": "execute_result"
    }
   ],
   "source": [
    "f.seek(0)"
   ]
  },
  {
   "cell_type": "code",
   "execution_count": 25,
   "id": "ef59f47a",
   "metadata": {},
   "outputs": [
    {
     "data": {
      "text/plain": [
       "['vivek\\n']"
      ]
     },
     "execution_count": 25,
     "metadata": {},
     "output_type": "execute_result"
    }
   ],
   "source": [
    "f.readlines(1)"
   ]
  },
  {
   "cell_type": "code",
   "execution_count": 26,
   "id": "5fcc4f03",
   "metadata": {},
   "outputs": [
    {
     "data": {
      "text/plain": [
       "['shivraj\\n']"
      ]
     },
     "execution_count": 26,
     "metadata": {},
     "output_type": "execute_result"
    }
   ],
   "source": [
    "f.readlines(3)"
   ]
  },
  {
   "cell_type": "code",
   "execution_count": 27,
   "id": "711509b9",
   "metadata": {},
   "outputs": [
    {
     "data": {
      "text/plain": [
       "['Arati']"
      ]
     },
     "execution_count": 27,
     "metadata": {},
     "output_type": "execute_result"
    }
   ],
   "source": [
    "f.readlines(2)"
   ]
  },
  {
   "cell_type": "code",
   "execution_count": 28,
   "id": "db1dd545",
   "metadata": {},
   "outputs": [],
   "source": [
    "f.close()"
   ]
  },
  {
   "cell_type": "code",
   "execution_count": 29,
   "id": "2b44952e",
   "metadata": {},
   "outputs": [],
   "source": [
    "#Best Practice is to close the file after use.\n"
   ]
  },
  {
   "cell_type": "code",
   "execution_count": 34,
   "id": "9fa63f80",
   "metadata": {},
   "outputs": [],
   "source": [
    "try :\n",
    "    f = open('vivek.txt')\n",
    "    \n",
    "finally:\n",
    "    f.close()\n",
    "    "
   ]
  },
  {
   "cell_type": "code",
   "execution_count": 47,
   "id": "051e2543",
   "metadata": {},
   "outputs": [],
   "source": [
    "with open ('vivek.txt') as f:\n",
    "    f.read()\n",
    "    pass\n"
   ]
  },
  {
   "cell_type": "code",
   "execution_count": 57,
   "id": "4940380c",
   "metadata": {},
   "outputs": [],
   "source": [
    "with open(\"vivek.txt\",'w+') as f:\n",
    "    f.write('nilesh/n')\n",
    "    f.read()\n",
    "    "
   ]
  },
  {
   "cell_type": "code",
   "execution_count": 52,
   "id": "b47127b2",
   "metadata": {},
   "outputs": [
    {
     "name": "stdout",
     "output_type": "stream",
     "text": [
      "done\n"
     ]
    }
   ],
   "source": [
    "data=\"ineuron\"\n",
    "f=open(\"test1.txt\",'w')\n",
    "f.write(data)\n",
    "print(\"done\")\n",
    "f.close()"
   ]
  },
  {
   "cell_type": "code",
   "execution_count": 53,
   "id": "34144938",
   "metadata": {},
   "outputs": [],
   "source": [
    "with open(\"test2.txt\",'w') as f:\n",
    "    f.write(\"ineuiron line\\n\")\n",
    "    f.write(\"ineuon line\\n\")"
   ]
  },
  {
   "cell_type": "code",
   "execution_count": 58,
   "id": "79fc730b",
   "metadata": {},
   "outputs": [],
   "source": [
    "with open(\"tes3.txt\",'w') as f:\n",
    "    f.write('Nilesh shivaji mohite')"
   ]
  },
  {
   "cell_type": "code",
   "execution_count": 60,
   "id": "284e5e8d",
   "metadata": {},
   "outputs": [],
   "source": [
    "with open(\"tes3.txt\",'w') as f:\n",
    "    f.write('nilesh\\n shivaji \\n mohite')"
   ]
  },
  {
   "cell_type": "code",
   "execution_count": 1,
   "id": "e7643c4c",
   "metadata": {},
   "outputs": [],
   "source": [
    "f = open(\"tes3.txt\")\n",
    "f.read()\n",
    "f.close()"
   ]
  },
  {
   "cell_type": "code",
   "execution_count": 65,
   "id": "19574e00",
   "metadata": {},
   "outputs": [],
   "source": [
    "with open(\"test2.txt\",'w') as f:\n",
    "    f.write(\"ineron line\\n\")\n",
    "    f.write(\"credence\")\n",
    "    f.write(\"\\n scoode\")"
   ]
  },
  {
   "cell_type": "code",
   "execution_count": 70,
   "id": "41b7c8ec",
   "metadata": {},
   "outputs": [],
   "source": [
    "try:\n",
    "    f = open(\"test2.txt\")\n",
    "    f.read()\n",
    "\n",
    "finally:\n",
    "    f.close()\n",
    "    \n",
    "    \n"
   ]
  },
  {
   "cell_type": "code",
   "execution_count": 71,
   "id": "6872c7cb",
   "metadata": {},
   "outputs": [
    {
     "data": {
      "text/plain": [
       "'ineron line\\ncredence\\n scoode'"
      ]
     },
     "execution_count": 71,
     "metadata": {},
     "output_type": "execute_result"
    }
   ],
   "source": [
    "f = open(\"test2.txt\")\n",
    "f.read()"
   ]
  },
  {
   "cell_type": "code",
   "execution_count": 73,
   "id": "d37e7e3d",
   "metadata": {},
   "outputs": [],
   "source": [
    "# modes of file opening \n",
    "\n",
    "#1. r = for read only\n",
    "#2. w = it will open file for writing only. it rewrite the previous data. & file is not preasent then it create file by itself.\n",
    "#3. x = It checks if file present or not. in case it not present already then only it creates file\n",
    "#4. a = open file or create file if not present and will appending the data at the end\n",
    "#5. + = open for updating the file like r+ means read and wite or w+ means write and read\"\"\"\n"
   ]
  },
  {
   "cell_type": "code",
   "execution_count": 74,
   "id": "d3f613ea",
   "metadata": {},
   "outputs": [
    {
     "ename": "FileExistsError",
     "evalue": "[Errno 17] File exists: 'test2.txt'",
     "output_type": "error",
     "traceback": [
      "\u001b[1;31m---------------------------------------------------------------------------\u001b[0m",
      "\u001b[1;31mFileExistsError\u001b[0m                           Traceback (most recent call last)",
      "Input \u001b[1;32mIn [74]\u001b[0m, in \u001b[0;36m<cell line: 1>\u001b[1;34m()\u001b[0m\n\u001b[1;32m----> 1\u001b[0m f \u001b[38;5;241m=\u001b[39m \u001b[38;5;28;43mopen\u001b[39;49m\u001b[43m(\u001b[49m\u001b[38;5;124;43m\"\u001b[39;49m\u001b[38;5;124;43mtest2.txt\u001b[39;49m\u001b[38;5;124;43m\"\u001b[39;49m\u001b[43m,\u001b[49m\u001b[38;5;124;43m'\u001b[39;49m\u001b[38;5;124;43mx\u001b[39;49m\u001b[38;5;124;43m'\u001b[39;49m\u001b[43m)\u001b[49m\n",
      "\u001b[1;31mFileExistsError\u001b[0m: [Errno 17] File exists: 'test2.txt'"
     ]
    }
   ],
   "source": [
    "f = open(\"test2.txt\",'x')"
   ]
  },
  {
   "cell_type": "code",
   "execution_count": 75,
   "id": "61481a47",
   "metadata": {},
   "outputs": [],
   "source": [
    "f = open(\"test4.txt\",'x')"
   ]
  },
  {
   "cell_type": "code",
   "execution_count": 77,
   "id": "d30a1524",
   "metadata": {},
   "outputs": [],
   "source": [
    "f.close()"
   ]
  },
  {
   "cell_type": "code",
   "execution_count": 78,
   "id": "0148cadf",
   "metadata": {},
   "outputs": [],
   "source": [
    "with  open(\"test4.txt\",'w') as f:\n",
    "    f.write('vivek\\nshivraj\\narati')"
   ]
  },
  {
   "cell_type": "code",
   "execution_count": 84,
   "id": "abcbd101",
   "metadata": {},
   "outputs": [
    {
     "data": {
      "text/plain": [
       "5"
      ]
     },
     "execution_count": 84,
     "metadata": {},
     "output_type": "execute_result"
    }
   ],
   "source": [
    "f = open(\"test4.txt\",'a')\n",
    "f.write(\"nandu\")"
   ]
  },
  {
   "cell_type": "code",
   "execution_count": 87,
   "id": "3bd6d8ff",
   "metadata": {},
   "outputs": [],
   "source": [
    "f = open(\"test4.txt\")"
   ]
  },
  {
   "cell_type": "code",
   "execution_count": 88,
   "id": "6c8f7c4a",
   "metadata": {},
   "outputs": [
    {
     "data": {
      "text/plain": [
       "'vivek\\nshivraj\\naratinandunandu'"
      ]
     },
     "execution_count": 88,
     "metadata": {},
     "output_type": "execute_result"
    }
   ],
   "source": [
    "f.read()"
   ]
  },
  {
   "cell_type": "code",
   "execution_count": 89,
   "id": "10f98de2",
   "metadata": {},
   "outputs": [],
   "source": [
    "f.close()"
   ]
  },
  {
   "cell_type": "code",
   "execution_count": 90,
   "id": "2a7bd7e8",
   "metadata": {},
   "outputs": [],
   "source": [
    "f = open('test4.txt','a')"
   ]
  },
  {
   "cell_type": "code",
   "execution_count": 91,
   "id": "b4d0e975",
   "metadata": {},
   "outputs": [
    {
     "data": {
      "text/plain": [
       "7"
      ]
     },
     "execution_count": 91,
     "metadata": {},
     "output_type": "execute_result"
    }
   ],
   "source": [
    "f.write('\\nOjaswi')"
   ]
  },
  {
   "cell_type": "code",
   "execution_count": 93,
   "id": "7cbc86e7",
   "metadata": {},
   "outputs": [],
   "source": [
    "f.close()"
   ]
  },
  {
   "cell_type": "code",
   "execution_count": 94,
   "id": "a866fd64",
   "metadata": {},
   "outputs": [],
   "source": [
    "f = open('test4.txt')"
   ]
  },
  {
   "cell_type": "code",
   "execution_count": 95,
   "id": "de77cef9",
   "metadata": {},
   "outputs": [
    {
     "data": {
      "text/plain": [
       "'vivek\\nshivraj\\naratinandunandunandu\\nOjaswi'"
      ]
     },
     "execution_count": 95,
     "metadata": {},
     "output_type": "execute_result"
    }
   ],
   "source": [
    "f.read()"
   ]
  },
  {
   "cell_type": "code",
   "execution_count": 96,
   "id": "5005e2d4",
   "metadata": {},
   "outputs": [],
   "source": [
    "f = open(\"test4.txt\",'w')"
   ]
  },
  {
   "cell_type": "code",
   "execution_count": 97,
   "id": "75147c01",
   "metadata": {},
   "outputs": [
    {
     "data": {
      "text/plain": [
       "7"
      ]
     },
     "execution_count": 97,
     "metadata": {},
     "output_type": "execute_result"
    }
   ],
   "source": [
    "f.write('\\nAnjali')"
   ]
  },
  {
   "cell_type": "code",
   "execution_count": 98,
   "id": "5c9a8980",
   "metadata": {},
   "outputs": [],
   "source": [
    "f.close()"
   ]
  },
  {
   "cell_type": "code",
   "execution_count": 99,
   "id": "6a3c5cfa",
   "metadata": {},
   "outputs": [],
   "source": [
    "f = open(\"test4.txt\")"
   ]
  },
  {
   "cell_type": "code",
   "execution_count": 100,
   "id": "a72cae9d",
   "metadata": {},
   "outputs": [
    {
     "data": {
      "text/plain": [
       "'\\nAnjali'"
      ]
     },
     "execution_count": 100,
     "metadata": {},
     "output_type": "execute_result"
    }
   ],
   "source": [
    "f.read()"
   ]
  },
  {
   "cell_type": "code",
   "execution_count": 101,
   "id": "38a84788",
   "metadata": {},
   "outputs": [],
   "source": [
    "f = open(\"test4.txt\",'r+')"
   ]
  },
  {
   "cell_type": "code",
   "execution_count": 102,
   "id": "19b2de92",
   "metadata": {},
   "outputs": [
    {
     "data": {
      "text/plain": [
       "'\\nAnjali'"
      ]
     },
     "execution_count": 102,
     "metadata": {},
     "output_type": "execute_result"
    }
   ],
   "source": [
    "f.read()"
   ]
  },
  {
   "cell_type": "code",
   "execution_count": 103,
   "id": "28adcb5c",
   "metadata": {},
   "outputs": [
    {
     "data": {
      "text/plain": [
       "7"
      ]
     },
     "execution_count": 103,
     "metadata": {},
     "output_type": "execute_result"
    }
   ],
   "source": [
    "f.write('shivraj')"
   ]
  },
  {
   "cell_type": "code",
   "execution_count": 104,
   "id": "635495d5",
   "metadata": {},
   "outputs": [
    {
     "data": {
      "text/plain": [
       "''"
      ]
     },
     "execution_count": 104,
     "metadata": {},
     "output_type": "execute_result"
    }
   ],
   "source": [
    "f.read()"
   ]
  },
  {
   "cell_type": "code",
   "execution_count": 105,
   "id": "b356f733",
   "metadata": {},
   "outputs": [
    {
     "data": {
      "text/plain": [
       "0"
      ]
     },
     "execution_count": 105,
     "metadata": {},
     "output_type": "execute_result"
    }
   ],
   "source": [
    "f.seek(0)"
   ]
  },
  {
   "cell_type": "code",
   "execution_count": 106,
   "id": "4f5fbd1d",
   "metadata": {},
   "outputs": [
    {
     "data": {
      "text/plain": [
       "'\\nAnjalishivraj'"
      ]
     },
     "execution_count": 106,
     "metadata": {},
     "output_type": "execute_result"
    }
   ],
   "source": [
    "f.read()"
   ]
  },
  {
   "cell_type": "code",
   "execution_count": 110,
   "id": "fce7cccb",
   "metadata": {},
   "outputs": [],
   "source": [
    "f = open(r\"C:/Users/vivek/Desktop/Power BI src file/mom.txt\",'r+')"
   ]
  },
  {
   "cell_type": "code",
   "execution_count": 111,
   "id": "be532b60",
   "metadata": {},
   "outputs": [
    {
     "data": {
      "text/plain": [
       "'C:\\\\Users\\\\vivek\\\\Desktop\\\\ineuron'"
      ]
     },
     "execution_count": 111,
     "metadata": {},
     "output_type": "execute_result"
    }
   ],
   "source": [
    "pwd()"
   ]
  },
  {
   "cell_type": "code",
   "execution_count": 113,
   "id": "4233615b",
   "metadata": {},
   "outputs": [
    {
     "data": {
      "text/plain": [
       "'dipu\\nmallesh\\nraj\\n'"
      ]
     },
     "execution_count": 113,
     "metadata": {},
     "output_type": "execute_result"
    }
   ],
   "source": [
    "f.read()"
   ]
  },
  {
   "cell_type": "code",
   "execution_count": 114,
   "id": "b313c702",
   "metadata": {},
   "outputs": [
    {
     "data": {
      "text/plain": [
       "5"
      ]
     },
     "execution_count": 114,
     "metadata": {},
     "output_type": "execute_result"
    }
   ],
   "source": [
    "f.write('vivek')"
   ]
  },
  {
   "cell_type": "code",
   "execution_count": 115,
   "id": "0017a791",
   "metadata": {},
   "outputs": [
    {
     "data": {
      "text/plain": [
       "''"
      ]
     },
     "execution_count": 115,
     "metadata": {},
     "output_type": "execute_result"
    }
   ],
   "source": [
    "f.read()"
   ]
  },
  {
   "cell_type": "code",
   "execution_count": 116,
   "id": "2ee6e97c",
   "metadata": {},
   "outputs": [
    {
     "data": {
      "text/plain": [
       "0"
      ]
     },
     "execution_count": 116,
     "metadata": {},
     "output_type": "execute_result"
    }
   ],
   "source": [
    "f.seek(0)"
   ]
  },
  {
   "cell_type": "code",
   "execution_count": 117,
   "id": "4abeb4f4",
   "metadata": {},
   "outputs": [
    {
     "data": {
      "text/plain": [
       "'dipu\\nmallesh\\nraj\\nvivek'"
      ]
     },
     "execution_count": 117,
     "metadata": {},
     "output_type": "execute_result"
    }
   ],
   "source": [
    "f.read()"
   ]
  },
  {
   "cell_type": "code",
   "execution_count": 118,
   "id": "4e0b938b",
   "metadata": {},
   "outputs": [],
   "source": [
    "#Using os.path.exists() ---to check specific path is available or not\n",
    "#Using os.path.isfile() ----to check specific file availabel or not\n",
    "#Using os.path.isdir() -----to check specific directory available or not\n",
    "#Using pathlib.Path.exists()  -------------these above are methods to check whether file exists or not.. "
   ]
  },
  {
   "cell_type": "code",
   "execution_count": 125,
   "id": "c9e2333c",
   "metadata": {},
   "outputs": [
    {
     "name": "stdout",
     "output_type": "stream",
     "text": [
      "True\n"
     ]
    }
   ],
   "source": [
    "#Using os.path.exists()  ----to check whether path exists or not.\n",
    "import os\n",
    "path = \"E:/Aarti it/automation/upload_e505ec29-b1ed-4e2a-98cd-aad897970b74.docx\" \n",
    "isexist = os.path.exists(path)\n",
    "print(isexist)"
   ]
  },
  {
   "cell_type": "code",
   "execution_count": 127,
   "id": "2b21fc6d",
   "metadata": {},
   "outputs": [
    {
     "name": "stdout",
     "output_type": "stream",
     "text": [
      "True\n"
     ]
    }
   ],
   "source": [
    "import os\n",
    "a = os.path.exists(\"E:/Aarti it/automation/upload_e505ec29-b1ed-4e2a-98cd-aad897970b74.docx\")\n",
    "print(a)"
   ]
  },
  {
   "cell_type": "code",
   "execution_count": 128,
   "id": "3b8eef9f",
   "metadata": {},
   "outputs": [
    {
     "name": "stdout",
     "output_type": "stream",
     "text": [
      "True\n"
     ]
    }
   ],
   "source": [
    "import os\n",
    "path = \"E:/Aarti it/automation/upload_e505ec29-b1ed-4e2a-98cd-aad897970b74.docx\" \n",
    "isfile = os.path.isfile(path)\n",
    "print(isfile)"
   ]
  },
  {
   "cell_type": "code",
   "execution_count": 130,
   "id": "ebfd8d0d",
   "metadata": {},
   "outputs": [
    {
     "name": "stdout",
     "output_type": "stream",
     "text": [
      "True\n"
     ]
    }
   ],
   "source": [
    "import os\n",
    "path = \"E:/Aarti it/automation\" \n",
    "isdir = os.path.isdir(path)\n",
    "print(isdir)"
   ]
  },
  {
   "cell_type": "code",
   "execution_count": null,
   "id": "7dd06dd1",
   "metadata": {},
   "outputs": [],
   "source": [
    "#pathlib module in Python provides various classes representing file system paths with semantics \n",
    "#appropriate for different operating systems. This module comes under Python’s standard utility modules. \n",
    "#Path classes in pathlib module are divided into pure paths and concrete paths. Pure paths provide only computational operations but do not provide I/O operations, while concrete paths inherit from pure paths provides computational as well as I/O operations. You can read about pathlib module in detail from here.\n",
    "#pathlib.Path.exists() method is used to check whether the given path points to an existing file or directory or not.\n",
    "\n",
    "# Import Path class\n",
    "from pathlib import Path\n",
    " \n",
    "# Path\n",
    "path = '/home/tuhingfg/Desktop'\n",
    " \n",
    "# Instantiate the Path class\n",
    "obj = Path(path)\n",
    " \n",
    "# Check if path exists\n",
    "print(\"path exists?\", obj.exists())"
   ]
  },
  {
   "cell_type": "code",
   "execution_count": 132,
   "id": "9b56bf74",
   "metadata": {},
   "outputs": [
    {
     "name": "stdout",
     "output_type": "stream",
     "text": [
      "3465430\n"
     ]
    }
   ],
   "source": [
    "#how to get file size in python?\n",
    "#this is gives out but in bytes.\n",
    "import os\n",
    "filesz = os.path.getsize(\"E:/Aarti it/automation/upload_e505ec29-b1ed-4e2a-98cd-aad897970b74.docx\")\n",
    "print(filesz)"
   ]
  },
  {
   "cell_type": "code",
   "execution_count": 135,
   "id": "48253b5c",
   "metadata": {},
   "outputs": [
    {
     "name": "stdout",
     "output_type": "stream",
     "text": [
      "7529492269\n"
     ]
    }
   ],
   "source": [
    "import os\n",
    "size = os.path.getsize(\"E:/Aarti it/automation/Zoom Meeting 2022-06-14  -1.mp4\")\n",
    "print(size)"
   ]
  },
  {
   "cell_type": "code",
   "execution_count": 137,
   "id": "280f1f75",
   "metadata": {},
   "outputs": [],
   "source": [
    "#how to count number of lines in file?\n",
    "fp = open(\"vivek.txt\")\n",
    "fp.readlines()\n",
    "fp.close()"
   ]
  },
  {
   "cell_type": "code",
   "execution_count": 138,
   "id": "1e5ab44c",
   "metadata": {},
   "outputs": [
    {
     "name": "stdout",
     "output_type": "stream",
     "text": [
      "number of lines in file is,1\n"
     ]
    }
   ],
   "source": [
    "with open(\"vivek.txt\") as fp:\n",
    "    lines = len(fp.readlines())\n",
    "    print(f\"number of lines in file is,{lines}\" )"
   ]
  },
  {
   "cell_type": "code",
   "execution_count": 139,
   "id": "206ed9fd",
   "metadata": {},
   "outputs": [
    {
     "name": "stdout",
     "output_type": "stream",
     "text": [
      "number of lines are,9\n"
     ]
    }
   ],
   "source": [
    "with open(\"vivek.txt\") as fp:\n",
    "    lines = len(fp.readlines())\n",
    "    print(f\"number of lines are,{lines}\")"
   ]
  },
  {
   "cell_type": "code",
   "execution_count": 2,
   "id": "3b4e2eb1",
   "metadata": {},
   "outputs": [
    {
     "name": "stdout",
     "output_type": "stream",
     "text": [
      "File exist\n"
     ]
    }
   ],
   "source": [
    "import os\n",
    "\n",
    "file_path = 'C:/Users/vivek/Desktop/ineuron/file handling/vivek.txt'\n",
    "\n",
    "if os.path.exists(file_path):\n",
    "    print('File exist')\n",
    "    \n",
    "else:\n",
    "    print('file doesnot exist')"
   ]
  },
  {
   "cell_type": "code",
   "execution_count": 4,
   "id": "cbef68a7",
   "metadata": {},
   "outputs": [
    {
     "name": "stdout",
     "output_type": "stream",
     "text": [
      "file_size is 60 bytes\n"
     ]
    }
   ],
   "source": [
    "import os\n",
    "file_path = 'C:/Users/vivek/Desktop/ineuron/file handling/vivek.txt'\n",
    "\n",
    "file_size = os.path.getsize(file_path)\n",
    "\n",
    "print(f\"file_size is {file_size} bytes\")\n"
   ]
  },
  {
   "cell_type": "code",
   "execution_count": 1,
   "id": "1453ceeb",
   "metadata": {},
   "outputs": [],
   "source": [
    "\n",
    "\n",
    "from functools import reduce\n",
    "with open('vivek.txt','r'):\n",
    "    number_lines = [1 for line in 'vivek.txt']\n",
    "    total_lines = reduce(lambda a,b : a+b,number_lines)    "
   ]
  },
  {
   "cell_type": "code",
   "execution_count": 2,
   "id": "76d967b6",
   "metadata": {},
   "outputs": [
    {
     "name": "stdout",
     "output_type": "stream",
     "text": [
      "Collecting functools\n",
      "  Using cached functools-0.5.tar.gz (4.9 kB)\n",
      "Building wheels for collected packages: functools\n",
      "  Building wheel for functools (setup.py): started\n",
      "  Building wheel for functools (setup.py): finished with status 'error'\n",
      "  Running setup.py clean for functools\n",
      "Failed to build functools\n",
      "Installing collected packages: functools\n",
      "    Running setup.py install for functools: started\n",
      "    Running setup.py install for functools: finished with status 'error'\n",
      "Note: you may need to restart the kernel to use updated packages.\n"
     ]
    },
    {
     "name": "stderr",
     "output_type": "stream",
     "text": [
      "  ERROR: Command errored out with exit status 1:\n",
      "   command: 'C:\\Users\\vivek\\anaconda3\\python.exe' -u -c 'import io, os, sys, setuptools, tokenize; sys.argv[0] = '\"'\"'C:\\\\Users\\\\vivek\\\\AppData\\\\Local\\\\Temp\\\\pip-install-xsbtrcc_\\\\functools_4996874ef5c344148d287eece7bb82b4\\\\setup.py'\"'\"'; __file__='\"'\"'C:\\\\Users\\\\vivek\\\\AppData\\\\Local\\\\Temp\\\\pip-install-xsbtrcc_\\\\functools_4996874ef5c344148d287eece7bb82b4\\\\setup.py'\"'\"';f = getattr(tokenize, '\"'\"'open'\"'\"', open)(__file__) if os.path.exists(__file__) else io.StringIO('\"'\"'from setuptools import setup; setup()'\"'\"');code = f.read().replace('\"'\"'\\r\\n'\"'\"', '\"'\"'\\n'\"'\"');f.close();exec(compile(code, __file__, '\"'\"'exec'\"'\"'))' bdist_wheel -d 'C:\\Users\\vivek\\AppData\\Local\\Temp\\pip-wheel-rbery9mr'\n",
      "       cwd: C:\\Users\\vivek\\AppData\\Local\\Temp\\pip-install-xsbtrcc_\\functools_4996874ef5c344148d287eece7bb82b4\\\n",
      "  Complete output (9 lines):\n",
      "  running bdist_wheel\n",
      "  running build\n",
      "  running build_py\n",
      "  creating build\n",
      "  creating build\\lib.win-amd64-3.9\n",
      "  copying functools.py -> build\\lib.win-amd64-3.9\n",
      "  running build_ext\n",
      "  building '_functools' extension\n",
      "  error: Microsoft Visual C++ 14.0 or greater is required. Get it with \"Microsoft C++ Build Tools\": https://visualstudio.microsoft.com/visual-cpp-build-tools/\n",
      "  ----------------------------------------\n",
      "  ERROR: Failed building wheel for functools\n",
      "    ERROR: Command errored out with exit status 1:\n",
      "     command: 'C:\\Users\\vivek\\anaconda3\\python.exe' -u -c 'import io, os, sys, setuptools, tokenize; sys.argv[0] = '\"'\"'C:\\\\Users\\\\vivek\\\\AppData\\\\Local\\\\Temp\\\\pip-install-xsbtrcc_\\\\functools_4996874ef5c344148d287eece7bb82b4\\\\setup.py'\"'\"'; __file__='\"'\"'C:\\\\Users\\\\vivek\\\\AppData\\\\Local\\\\Temp\\\\pip-install-xsbtrcc_\\\\functools_4996874ef5c344148d287eece7bb82b4\\\\setup.py'\"'\"';f = getattr(tokenize, '\"'\"'open'\"'\"', open)(__file__) if os.path.exists(__file__) else io.StringIO('\"'\"'from setuptools import setup; setup()'\"'\"');code = f.read().replace('\"'\"'\\r\\n'\"'\"', '\"'\"'\\n'\"'\"');f.close();exec(compile(code, __file__, '\"'\"'exec'\"'\"'))' install --record 'C:\\Users\\vivek\\AppData\\Local\\Temp\\pip-record-qk8jvotm\\install-record.txt' --single-version-externally-managed --compile --install-headers 'C:\\Users\\vivek\\anaconda3\\Include\\functools'\n",
      "         cwd: C:\\Users\\vivek\\AppData\\Local\\Temp\\pip-install-xsbtrcc_\\functools_4996874ef5c344148d287eece7bb82b4\\\n",
      "    Complete output (11 lines):\n",
      "    running install\n",
      "    C:\\Users\\vivek\\anaconda3\\lib\\site-packages\\setuptools\\command\\install.py:34: SetuptoolsDeprecationWarning: setup.py install is deprecated. Use build and pip and other standards-based tools.\n",
      "      warnings.warn(\n",
      "    running build\n",
      "    running build_py\n",
      "    creating build\n",
      "    creating build\\lib.win-amd64-3.9\n",
      "    copying functools.py -> build\\lib.win-amd64-3.9\n",
      "    running build_ext\n",
      "    building '_functools' extension\n",
      "    error: Microsoft Visual C++ 14.0 or greater is required. Get it with \"Microsoft C++ Build Tools\": https://visualstudio.microsoft.com/visual-cpp-build-tools/\n",
      "    ----------------------------------------\n",
      "ERROR: Command errored out with exit status 1: 'C:\\Users\\vivek\\anaconda3\\python.exe' -u -c 'import io, os, sys, setuptools, tokenize; sys.argv[0] = '\"'\"'C:\\\\Users\\\\vivek\\\\AppData\\\\Local\\\\Temp\\\\pip-install-xsbtrcc_\\\\functools_4996874ef5c344148d287eece7bb82b4\\\\setup.py'\"'\"'; __file__='\"'\"'C:\\\\Users\\\\vivek\\\\AppData\\\\Local\\\\Temp\\\\pip-install-xsbtrcc_\\\\functools_4996874ef5c344148d287eece7bb82b4\\\\setup.py'\"'\"';f = getattr(tokenize, '\"'\"'open'\"'\"', open)(__file__) if os.path.exists(__file__) else io.StringIO('\"'\"'from setuptools import setup; setup()'\"'\"');code = f.read().replace('\"'\"'\\r\\n'\"'\"', '\"'\"'\\n'\"'\"');f.close();exec(compile(code, __file__, '\"'\"'exec'\"'\"'))' install --record 'C:\\Users\\vivek\\AppData\\Local\\Temp\\pip-record-qk8jvotm\\install-record.txt' --single-version-externally-managed --compile --install-headers 'C:\\Users\\vivek\\anaconda3\\Include\\functools' Check the logs for full command output.\n"
     ]
    }
   ],
   "source": [
    "pip install functools"
   ]
  },
  {
   "cell_type": "code",
   "execution_count": 5,
   "id": "94792d03",
   "metadata": {},
   "outputs": [],
   "source": [
    "from functools import reduce\n",
    "with open('vivek.txt','r') as file :\n",
    "    number_lines = sum(1 for line in file)\n",
    "    "
   ]
  },
  {
   "cell_type": "code",
   "execution_count": 6,
   "id": "d3632b8b",
   "metadata": {},
   "outputs": [
    {
     "data": {
      "text/plain": [
       "9"
      ]
     },
     "execution_count": 6,
     "metadata": {},
     "output_type": "execute_result"
    }
   ],
   "source": [
    "number_lines"
   ]
  },
  {
   "cell_type": "code",
   "execution_count": 1,
   "id": "9219aeb1",
   "metadata": {},
   "outputs": [
    {
     "name": "stdout",
     "output_type": "stream",
     "text": [
      " Volume in drive C has no label.\n",
      " Volume Serial Number is BE38-9A92\n",
      "\n",
      " Directory of C:\\Users\\vivek\\Desktop\\ineuron\\file handling\n",
      "\n",
      "28-07-2023  10:41    <DIR>          .\n",
      "28-07-2023  10:41    <DIR>          ..\n",
      "28-07-2023  09:39    <DIR>          .ipynb_checkpoints\n",
      "08-12-2022  08:11            10,915 file handling.ipynb\n",
      "28-07-2023  10:41            40,234 Practice - File handling.ipynb\n",
      "08-12-2022  11:40                26 tes3.txt\n",
      "08-12-2022  11:35                 7 test1.txt\n",
      "08-12-2022  11:44                30 test2.txt\n",
      "08-12-2022  12:37                15 test4.txt\n",
      "08-12-2022  02:35                60 vivek.txt\n",
      "               7 File(s)         51,287 bytes\n",
      "               3 Dir(s)  98,574,594,048 bytes free\n"
     ]
    }
   ],
   "source": [
    "ls"
   ]
  },
  {
   "cell_type": "code",
   "execution_count": 2,
   "id": "7a906ef2",
   "metadata": {},
   "outputs": [
    {
     "data": {
      "text/plain": [
       "'C:\\\\Users\\\\vivek\\\\Desktop\\\\ineuron\\\\file handling'"
      ]
     },
     "execution_count": 2,
     "metadata": {},
     "output_type": "execute_result"
    }
   ],
   "source": [
    "pwd()"
   ]
  },
  {
   "cell_type": "code",
   "execution_count": 3,
   "id": "6e75eceb",
   "metadata": {},
   "outputs": [],
   "source": [
    "f = open('vivek.txt')"
   ]
  },
  {
   "cell_type": "code",
   "execution_count": 4,
   "id": "7c5f360a",
   "metadata": {},
   "outputs": [
    {
     "data": {
      "text/plain": [
       "['nilesh/n\\n',\n",
       " 'arati\\n',\n",
       " 'vivek\\n',\n",
       " 'shivraj\\n',\n",
       " 'ojaswi\\n',\n",
       " 'mom\\n',\n",
       " 'sai\\n',\n",
       " 'tai\\n',\n",
       " 'dear']"
      ]
     },
     "execution_count": 4,
     "metadata": {},
     "output_type": "execute_result"
    }
   ],
   "source": [
    "f.readlines()"
   ]
  },
  {
   "cell_type": "code",
   "execution_count": 5,
   "id": "670abbb2",
   "metadata": {},
   "outputs": [
    {
     "data": {
      "text/plain": [
       "''"
      ]
     },
     "execution_count": 5,
     "metadata": {},
     "output_type": "execute_result"
    }
   ],
   "source": [
    "f.read(5)"
   ]
  },
  {
   "cell_type": "code",
   "execution_count": 7,
   "id": "5cf25fe8",
   "metadata": {},
   "outputs": [
    {
     "data": {
      "text/plain": [
       "0"
      ]
     },
     "execution_count": 7,
     "metadata": {},
     "output_type": "execute_result"
    }
   ],
   "source": [
    "f.seek(0)"
   ]
  },
  {
   "cell_type": "code",
   "execution_count": 8,
   "id": "d7b623f3",
   "metadata": {},
   "outputs": [
    {
     "data": {
      "text/plain": [
       "'nilesh/n\\narati\\nvivek\\nshivraj\\nojaswi\\nmom\\nsai\\ntai\\ndear'"
      ]
     },
     "execution_count": 8,
     "metadata": {},
     "output_type": "execute_result"
    }
   ],
   "source": [
    "f.read()"
   ]
  },
  {
   "cell_type": "code",
   "execution_count": 9,
   "id": "47e4643a",
   "metadata": {},
   "outputs": [
    {
     "data": {
      "text/plain": [
       "[]"
      ]
     },
     "execution_count": 9,
     "metadata": {},
     "output_type": "execute_result"
    }
   ],
   "source": [
    "f.readlines()"
   ]
  },
  {
   "cell_type": "code",
   "execution_count": 10,
   "id": "8e921e23",
   "metadata": {},
   "outputs": [
    {
     "data": {
      "text/plain": [
       "0"
      ]
     },
     "execution_count": 10,
     "metadata": {},
     "output_type": "execute_result"
    }
   ],
   "source": [
    "f.seek(0)"
   ]
  },
  {
   "cell_type": "code",
   "execution_count": 11,
   "id": "d5d49b39",
   "metadata": {},
   "outputs": [
    {
     "data": {
      "text/plain": [
       "'niles'"
      ]
     },
     "execution_count": 11,
     "metadata": {},
     "output_type": "execute_result"
    }
   ],
   "source": [
    "f.read(5)"
   ]
  },
  {
   "cell_type": "code",
   "execution_count": 12,
   "id": "cdeaafa9",
   "metadata": {},
   "outputs": [],
   "source": [
    "f.close()"
   ]
  },
  {
   "cell_type": "code",
   "execution_count": 13,
   "id": "5efaad9d",
   "metadata": {},
   "outputs": [
    {
     "ename": "ValueError",
     "evalue": "I/O operation on closed file.",
     "output_type": "error",
     "traceback": [
      "\u001b[1;31m---------------------------------------------------------------------------\u001b[0m",
      "\u001b[1;31mValueError\u001b[0m                                Traceback (most recent call last)",
      "Input \u001b[1;32mIn [13]\u001b[0m, in \u001b[0;36m<cell line: 1>\u001b[1;34m()\u001b[0m\n\u001b[1;32m----> 1\u001b[0m \u001b[43mf\u001b[49m\u001b[38;5;241;43m.\u001b[39;49m\u001b[43mreadlines\u001b[49m\u001b[43m(\u001b[49m\u001b[43m)\u001b[49m\n",
      "\u001b[1;31mValueError\u001b[0m: I/O operation on closed file."
     ]
    }
   ],
   "source": [
    "f.readlines()"
   ]
  },
  {
   "cell_type": "code",
   "execution_count": 15,
   "id": "4e48c58a",
   "metadata": {},
   "outputs": [
    {
     "data": {
      "text/plain": [
       "['nilesh/n\\n',\n",
       " 'arati\\n',\n",
       " 'vivek\\n',\n",
       " 'shivraj\\n',\n",
       " 'ojaswi\\n',\n",
       " 'mom\\n',\n",
       " 'sai\\n',\n",
       " 'tai\\n',\n",
       " 'dear']"
      ]
     },
     "execution_count": 15,
     "metadata": {},
     "output_type": "execute_result"
    }
   ],
   "source": [
    "try:\n",
    "    f = open('vivek.txt')\n",
    "    x = f.readlines()\n",
    "except:\n",
    "    f.close()\n",
    "x"
   ]
  },
  {
   "cell_type": "code",
   "execution_count": 16,
   "id": "b413377a",
   "metadata": {},
   "outputs": [
    {
     "data": {
      "text/plain": [
       "9"
      ]
     },
     "execution_count": 16,
     "metadata": {},
     "output_type": "execute_result"
    }
   ],
   "source": [
    "len(x) -----to find number of lines in file."
   ]
  },
  {
   "cell_type": "code",
   "execution_count": 17,
   "id": "7b7eaf58",
   "metadata": {},
   "outputs": [],
   "source": [
    "f = open('vivek.txt')"
   ]
  },
  {
   "cell_type": "code",
   "execution_count": 20,
   "id": "d7993b9c",
   "metadata": {},
   "outputs": [
    {
     "data": {
      "text/plain": [
       "0"
      ]
     },
     "execution_count": 20,
     "metadata": {},
     "output_type": "execute_result"
    }
   ],
   "source": [
    "f.tell()"
   ]
  },
  {
   "cell_type": "code",
   "execution_count": 22,
   "id": "95b0b356",
   "metadata": {},
   "outputs": [
    {
     "data": {
      "text/plain": [
       "9"
      ]
     },
     "execution_count": 22,
     "metadata": {},
     "output_type": "execute_result"
    }
   ],
   "source": [
    "with open('vivek.txt') as file:\n",
    "    x = sum(1 for line in file )\n",
    "    \n",
    "x"
   ]
  },
  {
   "cell_type": "code",
   "execution_count": null,
   "id": "2c6b5b15",
   "metadata": {},
   "outputs": [],
   "source": []
  }
 ],
 "metadata": {
  "kernelspec": {
   "display_name": "Python 3 (ipykernel)",
   "language": "python",
   "name": "python3"
  },
  "language_info": {
   "codemirror_mode": {
    "name": "ipython",
    "version": 3
   },
   "file_extension": ".py",
   "mimetype": "text/x-python",
   "name": "python",
   "nbconvert_exporter": "python",
   "pygments_lexer": "ipython3",
   "version": "3.9.12"
  }
 },
 "nbformat": 4,
 "nbformat_minor": 5
}
